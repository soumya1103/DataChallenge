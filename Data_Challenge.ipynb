{
 "cells": [
  {
   "cell_type": "code",
   "execution_count": 1,
   "metadata": {},
   "outputs": [],
   "source": [
    "#Importing packages\n",
    "import pandas as pd\n",
    "import seaborn as sn\n",
    "import matplotlib.pyplot as plt\n",
    "import warnings\n",
    "warnings.filterwarnings(\"ignore\")"
   ]
  },
  {
   "cell_type": "code",
   "execution_count": 2,
   "metadata": {},
   "outputs": [],
   "source": [
    "#Import the price data\n",
    "prices = pd.read_csv(\"prices.csv\")"
   ]
  },
  {
   "cell_type": "code",
   "execution_count": 3,
   "metadata": {
    "scrolled": true
   },
   "outputs": [
    {
     "data": {
      "text/html": [
       "<div>\n",
       "<style scoped>\n",
       "    .dataframe tbody tr th:only-of-type {\n",
       "        vertical-align: middle;\n",
       "    }\n",
       "\n",
       "    .dataframe tbody tr th {\n",
       "        vertical-align: top;\n",
       "    }\n",
       "\n",
       "    .dataframe thead th {\n",
       "        text-align: right;\n",
       "    }\n",
       "</style>\n",
       "<table border=\"1\" class=\"dataframe\">\n",
       "  <thead>\n",
       "    <tr style=\"text-align: right;\">\n",
       "      <th></th>\n",
       "      <th>Auditor ID</th>\n",
       "      <th>Date</th>\n",
       "      <th>Price</th>\n",
       "      <th>Store ID</th>\n",
       "      <th>UPC</th>\n",
       "    </tr>\n",
       "  </thead>\n",
       "  <tbody>\n",
       "    <tr>\n",
       "      <th>0</th>\n",
       "      <td>234</td>\n",
       "      <td>10/18/17</td>\n",
       "      <td>24.95</td>\n",
       "      <td>66999</td>\n",
       "      <td>268588472</td>\n",
       "    </tr>\n",
       "    <tr>\n",
       "      <th>1</th>\n",
       "      <td>234</td>\n",
       "      <td>10/27/17</td>\n",
       "      <td>49.71</td>\n",
       "      <td>66999</td>\n",
       "      <td>475245085</td>\n",
       "    </tr>\n",
       "    <tr>\n",
       "      <th>2</th>\n",
       "      <td>234</td>\n",
       "      <td>10/20/17</td>\n",
       "      <td>25.75</td>\n",
       "      <td>66999</td>\n",
       "      <td>126967843</td>\n",
       "    </tr>\n",
       "    <tr>\n",
       "      <th>3</th>\n",
       "      <td>234</td>\n",
       "      <td>10/23/17</td>\n",
       "      <td>18.81</td>\n",
       "      <td>66999</td>\n",
       "      <td>708930835</td>\n",
       "    </tr>\n",
       "    <tr>\n",
       "      <th>4</th>\n",
       "      <td>234</td>\n",
       "      <td>10/23/17</td>\n",
       "      <td>33.32</td>\n",
       "      <td>66999</td>\n",
       "      <td>325885139</td>\n",
       "    </tr>\n",
       "  </tbody>\n",
       "</table>\n",
       "</div>"
      ],
      "text/plain": [
       "   Auditor ID      Date  Price  Store ID        UPC\n",
       "0         234  10/18/17  24.95     66999  268588472\n",
       "1         234  10/27/17  49.71     66999  475245085\n",
       "2         234  10/20/17  25.75     66999  126967843\n",
       "3         234  10/23/17  18.81     66999  708930835\n",
       "4         234  10/23/17  33.32     66999  325885139"
      ]
     },
     "execution_count": 3,
     "metadata": {},
     "output_type": "execute_result"
    }
   ],
   "source": [
    "prices.head()"
   ]
  },
  {
   "cell_type": "code",
   "execution_count": 4,
   "metadata": {},
   "outputs": [
    {
     "data": {
      "text/plain": [
       "(12315, 5)"
      ]
     },
     "execution_count": 4,
     "metadata": {},
     "output_type": "execute_result"
    }
   ],
   "source": [
    "prices.shape"
   ]
  },
  {
   "cell_type": "code",
   "execution_count": 5,
   "metadata": {},
   "outputs": [],
   "source": [
    "#Import the stores data\n",
    "store = pd.read_json(\"stores.json\")"
   ]
  },
  {
   "cell_type": "code",
   "execution_count": 6,
   "metadata": {
    "scrolled": true
   },
   "outputs": [
    {
     "data": {
      "text/html": [
       "<div>\n",
       "<style scoped>\n",
       "    .dataframe tbody tr th:only-of-type {\n",
       "        vertical-align: middle;\n",
       "    }\n",
       "\n",
       "    .dataframe tbody tr th {\n",
       "        vertical-align: top;\n",
       "    }\n",
       "\n",
       "    .dataframe thead th {\n",
       "        text-align: right;\n",
       "    }\n",
       "</style>\n",
       "<table border=\"1\" class=\"dataframe\">\n",
       "  <thead>\n",
       "    <tr style=\"text-align: right;\">\n",
       "      <th></th>\n",
       "      <th>Banner</th>\n",
       "      <th>Region</th>\n",
       "      <th>Store ID</th>\n",
       "    </tr>\n",
       "  </thead>\n",
       "  <tbody>\n",
       "    <tr>\n",
       "      <th>0</th>\n",
       "      <td>Walmart</td>\n",
       "      <td>Northern California</td>\n",
       "      <td>66999</td>\n",
       "    </tr>\n",
       "    <tr>\n",
       "      <th>1</th>\n",
       "      <td>Trader Joes</td>\n",
       "      <td>Northern California</td>\n",
       "      <td>4698</td>\n",
       "    </tr>\n",
       "    <tr>\n",
       "      <th>2</th>\n",
       "      <td>Safeway</td>\n",
       "      <td>Northern California</td>\n",
       "      <td>39482</td>\n",
       "    </tr>\n",
       "    <tr>\n",
       "      <th>3</th>\n",
       "      <td>Whole Foods</td>\n",
       "      <td>Northern California</td>\n",
       "      <td>34957</td>\n",
       "    </tr>\n",
       "    <tr>\n",
       "      <th>4</th>\n",
       "      <td>Walmart</td>\n",
       "      <td>New York</td>\n",
       "      <td>12837</td>\n",
       "    </tr>\n",
       "  </tbody>\n",
       "</table>\n",
       "</div>"
      ],
      "text/plain": [
       "        Banner               Region  Store ID\n",
       "0      Walmart  Northern California     66999\n",
       "1  Trader Joes  Northern California      4698\n",
       "2      Safeway  Northern California     39482\n",
       "3  Whole Foods  Northern California     34957\n",
       "4      Walmart             New York     12837"
      ]
     },
     "execution_count": 6,
     "metadata": {},
     "output_type": "execute_result"
    }
   ],
   "source": [
    "store.head()"
   ]
  },
  {
   "cell_type": "code",
   "execution_count": 7,
   "metadata": {
    "scrolled": true
   },
   "outputs": [
    {
     "data": {
      "text/plain": [
       "(28, 3)"
      ]
     },
     "execution_count": 7,
     "metadata": {},
     "output_type": "execute_result"
    }
   ],
   "source": [
    "store.shape"
   ]
  },
  {
   "cell_type": "code",
   "execution_count": 8,
   "metadata": {},
   "outputs": [],
   "source": [
    "#import the auditor data\n",
    "auditors = pd.read_csv(\"auditors.csv\")"
   ]
  },
  {
   "cell_type": "code",
   "execution_count": 9,
   "metadata": {},
   "outputs": [
    {
     "data": {
      "text/html": [
       "<div>\n",
       "<style scoped>\n",
       "    .dataframe tbody tr th:only-of-type {\n",
       "        vertical-align: middle;\n",
       "    }\n",
       "\n",
       "    .dataframe tbody tr th {\n",
       "        vertical-align: top;\n",
       "    }\n",
       "\n",
       "    .dataframe thead th {\n",
       "        text-align: right;\n",
       "    }\n",
       "</style>\n",
       "<table border=\"1\" class=\"dataframe\">\n",
       "  <thead>\n",
       "    <tr style=\"text-align: right;\">\n",
       "      <th></th>\n",
       "      <th>Auditor ID</th>\n",
       "      <th>First</th>\n",
       "      <th>Last</th>\n",
       "      <th>Region</th>\n",
       "    </tr>\n",
       "  </thead>\n",
       "  <tbody>\n",
       "    <tr>\n",
       "      <th>0</th>\n",
       "      <td>234</td>\n",
       "      <td>Sue</td>\n",
       "      <td>Smith</td>\n",
       "      <td>Northern California</td>\n",
       "    </tr>\n",
       "    <tr>\n",
       "      <th>1</th>\n",
       "      <td>536</td>\n",
       "      <td>Bob</td>\n",
       "      <td>Smith</td>\n",
       "      <td>Northern California</td>\n",
       "    </tr>\n",
       "    <tr>\n",
       "      <th>2</th>\n",
       "      <td>98</td>\n",
       "      <td>Jack</td>\n",
       "      <td>Smith</td>\n",
       "      <td>New York</td>\n",
       "    </tr>\n",
       "    <tr>\n",
       "      <th>3</th>\n",
       "      <td>203</td>\n",
       "      <td>Jill</td>\n",
       "      <td>Smith</td>\n",
       "      <td>New York</td>\n",
       "    </tr>\n",
       "    <tr>\n",
       "      <th>4</th>\n",
       "      <td>304</td>\n",
       "      <td>Jerry</td>\n",
       "      <td>Johnson</td>\n",
       "      <td>Texas</td>\n",
       "    </tr>\n",
       "  </tbody>\n",
       "</table>\n",
       "</div>"
      ],
      "text/plain": [
       "   Auditor ID  First     Last               Region\n",
       "0         234    Sue    Smith  Northern California\n",
       "1         536    Bob    Smith  Northern California\n",
       "2          98   Jack    Smith             New York\n",
       "3         203   Jill    Smith             New York\n",
       "4         304  Jerry  Johnson                Texas"
      ]
     },
     "execution_count": 9,
     "metadata": {},
     "output_type": "execute_result"
    }
   ],
   "source": [
    "auditors.head()"
   ]
  },
  {
   "cell_type": "code",
   "execution_count": 10,
   "metadata": {
    "scrolled": true
   },
   "outputs": [
    {
     "data": {
      "text/plain": [
       "(8, 4)"
      ]
     },
     "execution_count": 10,
     "metadata": {},
     "output_type": "execute_result"
    }
   ],
   "source": [
    "auditors.shape"
   ]
  },
  {
   "cell_type": "code",
   "execution_count": 11,
   "metadata": {},
   "outputs": [],
   "source": [
    "#Merge all the three dataset\n",
    "df = pd.merge(pd.merge(prices,store,on='Store ID').drop('Region', axis=1),auditors,on='Auditor ID')"
   ]
  },
  {
   "cell_type": "code",
   "execution_count": 12,
   "metadata": {
    "scrolled": false
   },
   "outputs": [
    {
     "data": {
      "text/html": [
       "<div>\n",
       "<style scoped>\n",
       "    .dataframe tbody tr th:only-of-type {\n",
       "        vertical-align: middle;\n",
       "    }\n",
       "\n",
       "    .dataframe tbody tr th {\n",
       "        vertical-align: top;\n",
       "    }\n",
       "\n",
       "    .dataframe thead th {\n",
       "        text-align: right;\n",
       "    }\n",
       "</style>\n",
       "<table border=\"1\" class=\"dataframe\">\n",
       "  <thead>\n",
       "    <tr style=\"text-align: right;\">\n",
       "      <th></th>\n",
       "      <th>Auditor ID</th>\n",
       "      <th>Date</th>\n",
       "      <th>Price</th>\n",
       "      <th>Store ID</th>\n",
       "      <th>UPC</th>\n",
       "      <th>Banner</th>\n",
       "      <th>First</th>\n",
       "      <th>Last</th>\n",
       "      <th>Region</th>\n",
       "    </tr>\n",
       "  </thead>\n",
       "  <tbody>\n",
       "    <tr>\n",
       "      <th>0</th>\n",
       "      <td>234</td>\n",
       "      <td>10/18/17</td>\n",
       "      <td>24.95</td>\n",
       "      <td>66999</td>\n",
       "      <td>268588472</td>\n",
       "      <td>Walmart</td>\n",
       "      <td>Sue</td>\n",
       "      <td>Smith</td>\n",
       "      <td>Northern California</td>\n",
       "    </tr>\n",
       "    <tr>\n",
       "      <th>1</th>\n",
       "      <td>234</td>\n",
       "      <td>10/27/17</td>\n",
       "      <td>49.71</td>\n",
       "      <td>66999</td>\n",
       "      <td>475245085</td>\n",
       "      <td>Walmart</td>\n",
       "      <td>Sue</td>\n",
       "      <td>Smith</td>\n",
       "      <td>Northern California</td>\n",
       "    </tr>\n",
       "    <tr>\n",
       "      <th>2</th>\n",
       "      <td>234</td>\n",
       "      <td>10/20/17</td>\n",
       "      <td>25.75</td>\n",
       "      <td>66999</td>\n",
       "      <td>126967843</td>\n",
       "      <td>Walmart</td>\n",
       "      <td>Sue</td>\n",
       "      <td>Smith</td>\n",
       "      <td>Northern California</td>\n",
       "    </tr>\n",
       "    <tr>\n",
       "      <th>3</th>\n",
       "      <td>234</td>\n",
       "      <td>10/23/17</td>\n",
       "      <td>18.81</td>\n",
       "      <td>66999</td>\n",
       "      <td>708930835</td>\n",
       "      <td>Walmart</td>\n",
       "      <td>Sue</td>\n",
       "      <td>Smith</td>\n",
       "      <td>Northern California</td>\n",
       "    </tr>\n",
       "    <tr>\n",
       "      <th>4</th>\n",
       "      <td>234</td>\n",
       "      <td>10/23/17</td>\n",
       "      <td>33.32</td>\n",
       "      <td>66999</td>\n",
       "      <td>325885139</td>\n",
       "      <td>Walmart</td>\n",
       "      <td>Sue</td>\n",
       "      <td>Smith</td>\n",
       "      <td>Northern California</td>\n",
       "    </tr>\n",
       "  </tbody>\n",
       "</table>\n",
       "</div>"
      ],
      "text/plain": [
       "   Auditor ID      Date  Price  Store ID        UPC   Banner First   Last  \\\n",
       "0         234  10/18/17  24.95     66999  268588472  Walmart   Sue  Smith   \n",
       "1         234  10/27/17  49.71     66999  475245085  Walmart   Sue  Smith   \n",
       "2         234  10/20/17  25.75     66999  126967843  Walmart   Sue  Smith   \n",
       "3         234  10/23/17  18.81     66999  708930835  Walmart   Sue  Smith   \n",
       "4         234  10/23/17  33.32     66999  325885139  Walmart   Sue  Smith   \n",
       "\n",
       "                Region  \n",
       "0  Northern California  \n",
       "1  Northern California  \n",
       "2  Northern California  \n",
       "3  Northern California  \n",
       "4  Northern California  "
      ]
     },
     "execution_count": 12,
     "metadata": {},
     "output_type": "execute_result"
    }
   ],
   "source": [
    "df.head()"
   ]
  },
  {
   "cell_type": "markdown",
   "metadata": {},
   "source": [
    "# Creating the Cross table "
   ]
  },
  {
   "cell_type": "code",
   "execution_count": 13,
   "metadata": {},
   "outputs": [],
   "source": [
    "#Creating Cross-table for the Region\n",
    "cross_table= pd.crosstab(index=[df['Banner'] , df['UPC']], columns=df['Region'],\n",
    "            values = df['Price'], aggfunc='mean', colnames=['Id'])"
   ]
  },
  {
   "cell_type": "code",
   "execution_count": 14,
   "metadata": {},
   "outputs": [],
   "source": [
    "table = cross_table.reset_index()"
   ]
  },
  {
   "cell_type": "code",
   "execution_count": 15,
   "metadata": {
    "scrolled": true
   },
   "outputs": [
    {
     "data": {
      "text/html": [
       "<div>\n",
       "<style scoped>\n",
       "    .dataframe tbody tr th:only-of-type {\n",
       "        vertical-align: middle;\n",
       "    }\n",
       "\n",
       "    .dataframe tbody tr th {\n",
       "        vertical-align: top;\n",
       "    }\n",
       "\n",
       "    .dataframe thead th {\n",
       "        text-align: right;\n",
       "    }\n",
       "</style>\n",
       "<table border=\"1\" class=\"dataframe\">\n",
       "  <thead>\n",
       "    <tr style=\"text-align: right;\">\n",
       "      <th>Id</th>\n",
       "      <th>Banner</th>\n",
       "      <th>UPC</th>\n",
       "      <th>Kansas</th>\n",
       "      <th>New York</th>\n",
       "      <th>Northern California</th>\n",
       "      <th>Texas</th>\n",
       "    </tr>\n",
       "  </thead>\n",
       "  <tbody>\n",
       "    <tr>\n",
       "      <th>0</th>\n",
       "      <td>Safeway</td>\n",
       "      <td>11873171</td>\n",
       "      <td>NaN</td>\n",
       "      <td>6.09</td>\n",
       "      <td>NaN</td>\n",
       "      <td>5.19</td>\n",
       "    </tr>\n",
       "    <tr>\n",
       "      <th>644</th>\n",
       "      <td>Safeway</td>\n",
       "      <td>676274385</td>\n",
       "      <td>NaN</td>\n",
       "      <td>48.79</td>\n",
       "      <td>NaN</td>\n",
       "      <td>41.99</td>\n",
       "    </tr>\n",
       "    <tr>\n",
       "      <th>645</th>\n",
       "      <td>Safeway</td>\n",
       "      <td>676939567</td>\n",
       "      <td>38.39</td>\n",
       "      <td>NaN</td>\n",
       "      <td>NaN</td>\n",
       "      <td>NaN</td>\n",
       "    </tr>\n",
       "    <tr>\n",
       "      <th>646</th>\n",
       "      <td>Safeway</td>\n",
       "      <td>677674656</td>\n",
       "      <td>19.59</td>\n",
       "      <td>22.99</td>\n",
       "      <td>NaN</td>\n",
       "      <td>19.79</td>\n",
       "    </tr>\n",
       "    <tr>\n",
       "      <th>647</th>\n",
       "      <td>Safeway</td>\n",
       "      <td>678530217</td>\n",
       "      <td>NaN</td>\n",
       "      <td>NaN</td>\n",
       "      <td>NaN</td>\n",
       "      <td>39.69</td>\n",
       "    </tr>\n",
       "  </tbody>\n",
       "</table>\n",
       "</div>"
      ],
      "text/plain": [
       "Id    Banner        UPC  Kansas  New York  Northern California  Texas\n",
       "0    Safeway   11873171     NaN      6.09                  NaN   5.19\n",
       "644  Safeway  676274385     NaN     48.79                  NaN  41.99\n",
       "645  Safeway  676939567   38.39       NaN                  NaN    NaN\n",
       "646  Safeway  677674656   19.59     22.99                  NaN  19.79\n",
       "647  Safeway  678530217     NaN       NaN                  NaN  39.69"
      ]
     },
     "execution_count": 15,
     "metadata": {},
     "output_type": "execute_result"
    }
   ],
   "source": [
    "table = table.sort_values(by=['Banner'])\n",
    "table.head()"
   ]
  },
  {
   "cell_type": "markdown",
   "metadata": {},
   "source": [
    "# Exporting the data"
   ]
  },
  {
   "cell_type": "code",
   "execution_count": 16,
   "metadata": {},
   "outputs": [],
   "source": [
    "# save to the csv file\n",
    "table.to_csv(\"output.csv\", index=False)"
   ]
  },
  {
   "cell_type": "code",
   "execution_count": 17,
   "metadata": {
    "scrolled": true
   },
   "outputs": [
    {
     "data": {
      "text/html": [
       "<div>\n",
       "<style scoped>\n",
       "    .dataframe tbody tr th:only-of-type {\n",
       "        vertical-align: middle;\n",
       "    }\n",
       "\n",
       "    .dataframe tbody tr th {\n",
       "        vertical-align: top;\n",
       "    }\n",
       "\n",
       "    .dataframe thead th {\n",
       "        text-align: right;\n",
       "    }\n",
       "</style>\n",
       "<table border=\"1\" class=\"dataframe\">\n",
       "  <thead>\n",
       "    <tr style=\"text-align: right;\">\n",
       "      <th>Id</th>\n",
       "      <th>UPC</th>\n",
       "      <th>Kansas</th>\n",
       "      <th>New York</th>\n",
       "      <th>Northern California</th>\n",
       "      <th>Texas</th>\n",
       "    </tr>\n",
       "  </thead>\n",
       "  <tbody>\n",
       "    <tr>\n",
       "      <th>count</th>\n",
       "      <td>4.931000e+03</td>\n",
       "      <td>3087.000000</td>\n",
       "      <td>3331.000000</td>\n",
       "      <td>1328.000000</td>\n",
       "      <td>3765.000000</td>\n",
       "    </tr>\n",
       "    <tr>\n",
       "      <th>mean</th>\n",
       "      <td>5.088255e+08</td>\n",
       "      <td>21.390198</td>\n",
       "      <td>31.368157</td>\n",
       "      <td>35.471310</td>\n",
       "      <td>30.084550</td>\n",
       "    </tr>\n",
       "    <tr>\n",
       "      <th>std</th>\n",
       "      <td>2.878944e+08</td>\n",
       "      <td>18.610435</td>\n",
       "      <td>17.436303</td>\n",
       "      <td>19.717375</td>\n",
       "      <td>16.709557</td>\n",
       "    </tr>\n",
       "    <tr>\n",
       "      <th>min</th>\n",
       "      <td>1.187317e+07</td>\n",
       "      <td>0.690000</td>\n",
       "      <td>0.590000</td>\n",
       "      <td>0.690000</td>\n",
       "      <td>0.590000</td>\n",
       "    </tr>\n",
       "    <tr>\n",
       "      <th>25%</th>\n",
       "      <td>2.661121e+08</td>\n",
       "      <td>1.990000</td>\n",
       "      <td>17.020000</td>\n",
       "      <td>19.090000</td>\n",
       "      <td>16.290000</td>\n",
       "    </tr>\n",
       "    <tr>\n",
       "      <th>50%</th>\n",
       "      <td>5.090565e+08</td>\n",
       "      <td>17.690000</td>\n",
       "      <td>31.090000</td>\n",
       "      <td>34.990000</td>\n",
       "      <td>29.840000</td>\n",
       "    </tr>\n",
       "    <tr>\n",
       "      <th>75%</th>\n",
       "      <td>7.644589e+08</td>\n",
       "      <td>37.490000</td>\n",
       "      <td>45.590000</td>\n",
       "      <td>51.597500</td>\n",
       "      <td>44.060000</td>\n",
       "    </tr>\n",
       "    <tr>\n",
       "      <th>max</th>\n",
       "      <td>9.991851e+08</td>\n",
       "      <td>59.990000</td>\n",
       "      <td>70.090000</td>\n",
       "      <td>74.490000</td>\n",
       "      <td>63.890000</td>\n",
       "    </tr>\n",
       "  </tbody>\n",
       "</table>\n",
       "</div>"
      ],
      "text/plain": [
       "Id              UPC       Kansas     New York  Northern California  \\\n",
       "count  4.931000e+03  3087.000000  3331.000000          1328.000000   \n",
       "mean   5.088255e+08    21.390198    31.368157            35.471310   \n",
       "std    2.878944e+08    18.610435    17.436303            19.717375   \n",
       "min    1.187317e+07     0.690000     0.590000             0.690000   \n",
       "25%    2.661121e+08     1.990000    17.020000            19.090000   \n",
       "50%    5.090565e+08    17.690000    31.090000            34.990000   \n",
       "75%    7.644589e+08    37.490000    45.590000            51.597500   \n",
       "max    9.991851e+08    59.990000    70.090000            74.490000   \n",
       "\n",
       "Id           Texas  \n",
       "count  3765.000000  \n",
       "mean     30.084550  \n",
       "std      16.709557  \n",
       "min       0.590000  \n",
       "25%      16.290000  \n",
       "50%      29.840000  \n",
       "75%      44.060000  \n",
       "max      63.890000  "
      ]
     },
     "execution_count": 17,
     "metadata": {},
     "output_type": "execute_result"
    }
   ],
   "source": [
    "table.describe()"
   ]
  },
  {
   "cell_type": "markdown",
   "metadata": {},
   "source": [
    "**From the above table, we can see that the mean of the prices is maximum for Northern California, followed by New York, Texas and Kansas, which aligns with the real-world expectations. But something to note is that the first quartile value is very low for Kansas compared to other states. This might need more inspection.**"
   ]
  },
  {
   "cell_type": "code",
   "execution_count": 18,
   "metadata": {
    "scrolled": false
   },
   "outputs": [
    {
     "data": {
      "image/png": "[encoded data removed]",
      "text/plain": [
       "<Figure size 432x288 with 1 Axes>"
      ]
     },
     "metadata": {
      "needs_background": "light"
     },
     "output_type": "display_data"
    }
   ],
   "source": [
    "plt.hist(table['Kansas'], bins=20)\n",
    "plt.ylabel('Occurence')\n",
    "plt.xlabel('Price')\n",
    "plt.title(\"Histogram for Kansas\")\n",
    "plt.show()"
   ]
  },
  {
   "cell_type": "markdown",
   "metadata": {},
   "source": [
    "**From the above graph, we can see that either Kansas has a lot of missing values or the prices of commodities are generally low as compared to other states.**"
   ]
  },
  {
   "cell_type": "code",
   "execution_count": 19,
   "metadata": {
    "scrolled": true
   },
   "outputs": [
    {
     "data": {
      "text/plain": [
       "<matplotlib.axes._subplots.AxesSubplot at 0x1a236dc978>"
      ]
     },
     "execution_count": 19,
     "metadata": {},
     "output_type": "execute_result"
    },
    {
     "data": {
      "image/png": "[encoded data removed]",
      "text/plain": [
       "<Figure size 720x216 with 2 Axes>"
      ]
     },
     "metadata": {
      "needs_background": "light"
     },
     "output_type": "display_data"
    }
   ],
   "source": [
    "import missingno as msno\n",
    "msno.matrix(table,figsize=(10,3))"
   ]
  },
  {
   "cell_type": "code",
   "execution_count": 20,
   "metadata": {
    "scrolled": true
   },
   "outputs": [
    {
     "data": {
      "text/plain": [
       "Id\n",
       "Banner                    0\n",
       "UPC                       0\n",
       "Kansas                 1844\n",
       "New York               1600\n",
       "Northern California    3603\n",
       "Texas                  1166\n",
       "dtype: int64"
      ]
     },
     "execution_count": 20,
     "metadata": {},
     "output_type": "execute_result"
    }
   ],
   "source": [
    "table.isnull().sum()"
   ]
  },
  {
   "cell_type": "markdown",
   "metadata": {},
   "source": [
    "**The above table and graph show that Northern California has the maximum number of missing values and Texas has the least.**"
   ]
  },
  {
   "cell_type": "markdown",
   "metadata": {},
   "source": [
    "**Let's check the data for outliers:**"
   ]
  },
  {
   "cell_type": "code",
   "execution_count": 21,
   "metadata": {},
   "outputs": [
    {
     "data": {
      "text/plain": [
       "<matplotlib.axes._subplots.AxesSubplot at 0x1a2370c1d0>"
      ]
     },
     "execution_count": 21,
     "metadata": {},
     "output_type": "execute_result"
    },
    {
     "data": {
      "image/png": "[encoded data removed]",
      "text/plain": [
       "<Figure size 432x288 with 4 Axes>"
      ]
     },
     "metadata": {
      "needs_background": "light"
     },
     "output_type": "display_data"
    }
   ],
   "source": [
    "fig, axes = plt.subplots(nrows=2,ncols=2)\n",
    "sn.boxplot(data=table,x=table[\"Texas\"],orient=\"v\", ax=axes[0,0])\n",
    "sn.boxplot(data=table,x=table[\"Kansas\"],orient=\"v\", ax=axes[0,1] )\n",
    "sn.boxplot(data=table,x=table[\"New York\"],orient=\"v\", ax=axes[1,0])\n",
    "sn.boxplot(data=table,x=table[\"Northern California\"],orient=\"v\", ax=axes[1,1])"
   ]
  },
  {
   "cell_type": "markdown",
   "metadata": {},
   "source": [
    "**We can see from the Box Plot that there are no outliers. Also, we can see that the spread of the data for Kansas is over lower price values as compared to other states.**"
   ]
  },
  {
   "cell_type": "code",
   "execution_count": 22,
   "metadata": {},
   "outputs": [
    {
     "data": {
      "text/plain": [
       "Text(0.5, 1.0, 'Banner Comparision of average price in all the States')"
      ]
     },
     "execution_count": 22,
     "metadata": {},
     "output_type": "execute_result"
    },
    {
     "data": {
      "image/png": "[encoded data removed]",
      "text/plain": [
       "<Figure size 1080x432 with 1 Axes>"
      ]
     },
     "metadata": {
      "needs_background": "light"
     },
     "output_type": "display_data"
    }
   ],
   "source": [
    "comparision = table.groupby('Banner').mean().drop(\"UPC\", axis =1)\n",
    "comparision.plot(kind = 'bar', figsize=(15,6))\n",
    "plt.legend(loc='upper right')\n",
    "plt.title('Banner Comparision of average price in all the States')"
   ]
  },
  {
   "cell_type": "markdown",
   "metadata": {},
   "source": [
    "**From the above graph we can conclude many things:**\n",
    "\n",
    "**1. The auditors did not collect data from Safeway and Wegmans for the state of Northern California.**\n",
    "\n",
    "**2. The avg price of Whole Food in Kansas is extremely low compared to the average price of other brands in the same city is an anomaly. That is why the histogram displayed a lot of values between 0 to 10. This could be because there might be a lot of missing values only for Whole Foods in Kansas or the prices are market incorrectly. Hence, the auditors of Kansas city should be asked to take a look at it.**\n",
    "\n",
    "**3. For the brands where the data is available, Northern California seems to be the costliest states as compared to other states, followed by New York. This causes no anomaly.**"
   ]
  },
  {
   "cell_type": "code",
   "execution_count": 23,
   "metadata": {
    "scrolled": true
   },
   "outputs": [
    {
     "data": {
      "text/html": [
       "<div>\n",
       "<style scoped>\n",
       "    .dataframe tbody tr th:only-of-type {\n",
       "        vertical-align: middle;\n",
       "    }\n",
       "\n",
       "    .dataframe tbody tr th {\n",
       "        vertical-align: top;\n",
       "    }\n",
       "\n",
       "    .dataframe thead th {\n",
       "        text-align: right;\n",
       "    }\n",
       "</style>\n",
       "<table border=\"1\" class=\"dataframe\">\n",
       "  <thead>\n",
       "    <tr style=\"text-align: right;\">\n",
       "      <th></th>\n",
       "      <th>Auditor ID</th>\n",
       "      <th>First</th>\n",
       "      <th>Last</th>\n",
       "      <th>Region</th>\n",
       "    </tr>\n",
       "  </thead>\n",
       "  <tbody>\n",
       "    <tr>\n",
       "      <th>6</th>\n",
       "      <td>1326</td>\n",
       "      <td>Mike</td>\n",
       "      <td>Johnson</td>\n",
       "      <td>Kansas</td>\n",
       "    </tr>\n",
       "    <tr>\n",
       "      <th>7</th>\n",
       "      <td>713</td>\n",
       "      <td>Dave</td>\n",
       "      <td>Johnson</td>\n",
       "      <td>Kansas</td>\n",
       "    </tr>\n",
       "  </tbody>\n",
       "</table>\n",
       "</div>"
      ],
      "text/plain": [
       "   Auditor ID First     Last  Region\n",
       "6        1326  Mike  Johnson  Kansas\n",
       "7         713  Dave  Johnson  Kansas"
      ]
     },
     "execution_count": 23,
     "metadata": {},
     "output_type": "execute_result"
    }
   ],
   "source": [
    "auditors[auditors[\"Region\"]==\"Kansas\"]"
   ]
  },
  {
   "cell_type": "markdown",
   "metadata": {},
   "source": [
    "So, both these auditors should be asked to cross check the prices for Whole Foods."
   ]
  }
 ],
 "metadata": {
  "kernelspec": {
   "display_name": "Python 3",
   "language": "python",
   "name": "python3"
  },
  "language_info": {
   "codemirror_mode": {
    "name": "ipython",
    "version": 3
   },
   "file_extension": ".py",
   "mimetype": "text/x-python",
   "name": "python",
   "nbconvert_exporter": "python",
   "pygments_lexer": "ipython3",
   "version": "3.7.1"
  }
 },
 "nbformat": 4,
 "nbformat_minor": 2
}
